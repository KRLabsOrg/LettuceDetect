{
 "cells": [
  {
   "cell_type": "markdown",
   "id": "b9ea123a",
   "metadata": {},
   "source": [
    "## 🥬 TinyLettuce: Efficient Hallucination Detection Small Models (Using Synthetic Data Generation)\n",
    "\n",
    "<p align=\"center\">\n",
    "  <img src=\"https://github.com/KRLabsOrg/LettuceDetect/blob/dev/assets/tinytinylettuce.png?raw=true\" alt=\"TinyLettuce Detective\" width=\"400\"/>\n",
    "  <br>\n",
    "  <em>Small, task‑specialized encoders trained on synthetic data</em>\n",
    "</p>\n",
    "\n",
    "\n",
    "[![LettuceDetect](https://img.shields.io/badge/LettuceDetect-v0.1.8-green)](https://github.com/your-username/LettuceDetect)\n",
    "[![Python](https://img.shields.io/badge/Python-3.11+-blue)](https://python.org)\n",
    "[![License](https://img.shields.io/badge/License-MIT-yellow)](https://opensource.org/licenses/MIT)\n",
    "\n",
    "## 🎯 Overview\n",
    "\n",
    "**The Problem**: Training robust hallucination detection models requires large datasets of both correct and hallucinated responses. Manually creating such datasets is expensive and time-consuming.\n",
    "\n",
    "**Our Solution**: LettuceDetect's synthetic data generation pipeline can generate realistic hallucinations from factual content.\n",
    "\n",
    "### What This Notebook Demonstrates\n",
    "\n",
    "1. **Answer-based Generation**: Inject specific error types into correct answers\n",
    "2. **Batch Processing**: Efficient async generation for large datasets\n",
    "3. **Training Integration**: Convert to formats ready for model training\n",
    "\n",
    "### Key Benefits\n",
    "\n",
    "- **Cost-effective**: Generate thousands of training samples at a fraction of manual annotation cost\n",
    "- **Controllable**: Specify exact error types and intensity levels\n",
    "- **Scalable**: Async batch processing for large scale datasets"
   ]
  },
  {
   "cell_type": "markdown",
   "id": "0086e655",
   "metadata": {},
   "source": [
    "### Setup\n",
    "\n",
    "Install LettuceDetect:\n",
    "```bash\n",
    "pip install lettucedetect\n",
    "```\n",
    "\n",
    "Then, install datasets and rich:\n",
    "```bash\n",
    "pip install datasets\n",
    "pip install rich\n",
    "```\n"
   ]
  },
  {
   "cell_type": "code",
   "execution_count": 1,
   "id": "95eac334",
   "metadata": {},
   "outputs": [],
   "source": [
    "# We recommend setting your OpenAI API key as an environment variable\n",
    "# os.environ['OPENAI_API_KEY'] = 'your-api-key-here'"
   ]
  },
  {
   "cell_type": "markdown",
   "id": "eedf0e53",
   "metadata": {},
   "source": [
    "### Generate Synthetic Data"
   ]
  },
  {
   "cell_type": "code",
   "execution_count": 5,
   "id": "e5fb60b3",
   "metadata": {},
   "outputs": [],
   "source": [
    "# Initialize the generator\n",
    "from lettucedetect import HallucinationGenerator\n",
    "\n",
    "# The heart of the synthetic data generation pipeline is the HallucinationGenerator class\n",
    "# GPT 5 requires temperature=1.0\n",
    "generator = HallucinationGenerator(model=\"gpt-5\", temperature=1.0)"
   ]
  },
  {
   "cell_type": "code",
   "execution_count": 6,
   "id": "a7f90660",
   "metadata": {},
   "outputs": [],
   "source": [
    "# The generator can be used with any context-question-answer format\n",
    "result = generator.generate(\n",
    "    context=[\n",
    "        \"Ibuprofen is an NSAID that reduces inflammation and pain. The typical adult dose is 400-600mg every 6-8 hours, not exceeding 2400mg daily.\"\n",
    "    ],\n",
    "    question=\"What is the maximum daily dose of ibuprofen?\",\n",
    "    answer=\"The maximum daily dose of ibuprofen for adults is 2400mg.\",\n",
    ")"
   ]
  },
  {
   "cell_type": "code",
   "execution_count": 8,
   "id": "8760884c",
   "metadata": {},
   "outputs": [
    {
     "data": {
      "text/html": [
       "<pre style=\"white-space:pre;overflow-x:auto;line-height:normal;font-family:Menlo,'DejaVu Sans Mono',consolas,'Courier New',monospace\"><span style=\"font-weight: bold\">{</span>\n",
       "    <span style=\"color: #008000; text-decoration-color: #008000\">'original_answer'</span>: <span style=\"color: #008000; text-decoration-color: #008000\">'The maximum daily dose of ibuprofen for adults is 2400mg.'</span>,\n",
       "    <span style=\"color: #008000; text-decoration-color: #008000\">'hallucinated_answer'</span>: <span style=\"color: #008000; text-decoration-color: #008000\">'The maximum daily dose of ibuprofen for adults is 3200mg, per a 2016 FDA guideline.'</span>,\n",
       "    <span style=\"color: #008000; text-decoration-color: #008000\">'hallucinated_parts'</span>: <span style=\"font-weight: bold\">[</span><span style=\"color: #008000; text-decoration-color: #008000\">'3200mg'</span>, <span style=\"color: #008000; text-decoration-color: #008000\">'per a 2016 FDA guideline'</span>, <span style=\"color: #008000; text-decoration-color: #008000\">'2016'</span><span style=\"font-weight: bold\">]</span>\n",
       "<span style=\"font-weight: bold\">}</span>\n",
       "</pre>\n"
      ],
      "text/plain": [
       "\u001b[1m{\u001b[0m\n",
       "    \u001b[32m'original_answer'\u001b[0m: \u001b[32m'The maximum daily dose of ibuprofen for adults is 2400mg.'\u001b[0m,\n",
       "    \u001b[32m'hallucinated_answer'\u001b[0m: \u001b[32m'The maximum daily dose of ibuprofen for adults is 3200mg, per a 2016 FDA guideline.'\u001b[0m,\n",
       "    \u001b[32m'hallucinated_parts'\u001b[0m: \u001b[1m[\u001b[0m\u001b[32m'3200mg'\u001b[0m, \u001b[32m'per a 2016 FDA guideline'\u001b[0m, \u001b[32m'2016'\u001b[0m\u001b[1m]\u001b[0m\n",
       "\u001b[1m}\u001b[0m\n"
      ]
     },
     "metadata": {},
     "output_type": "display_data"
    }
   ],
   "source": [
    "from rich import console\n",
    "\n",
    "console = console.Console()\n",
    "\n",
    "console.print(result)"
   ]
  },
  {
   "cell_type": "markdown",
   "id": "0b049c56",
   "metadata": {},
   "source": [
    "You can easily tune the error types and intensity to your needs.\n",
    "\n",
    "Currently, the generator supports the following error types:\n",
    "- factual = Change facts/entities\n",
    "- temporal = Change dates, time periods\n",
    "- numerical = Change numbers, quantities\n",
    "- relational = Change relationships between entities\n",
    "- contextual = Add unrelated context\n",
    "- omission = Remove important details\n",
    "\n",
    "And intensity is a float between 0 and 1, where 0 is hardly noticable and 1 is very obvious"
   ]
  },
  {
   "cell_type": "code",
   "execution_count": 9,
   "id": "f09d1a5a",
   "metadata": {},
   "outputs": [
    {
     "data": {
      "text/html": [
       "<pre style=\"white-space:pre;overflow-x:auto;line-height:normal;font-family:Menlo,'DejaVu Sans Mono',consolas,'Courier New',monospace\"><span style=\"font-weight: bold\">{</span>\n",
       "    <span style=\"color: #008000; text-decoration-color: #008000\">'original_answer'</span>: <span style=\"color: #008000; text-decoration-color: #008000\">'The maximum daily dose of ibuprofen for adults is 2400mg.'</span>,\n",
       "    <span style=\"color: #008000; text-decoration-color: #008000\">'hallucinated_answer'</span>: <span style=\"color: #008000; text-decoration-color: #008000\">'The maximum daily dose of ibuprofen for adults is 3200mg.'</span>,\n",
       "    <span style=\"color: #008000; text-decoration-color: #008000\">'hallucinated_parts'</span>: <span style=\"font-weight: bold\">[</span><span style=\"color: #008000; text-decoration-color: #008000\">'3200mg'</span><span style=\"font-weight: bold\">]</span>\n",
       "<span style=\"font-weight: bold\">}</span>\n",
       "</pre>\n"
      ],
      "text/plain": [
       "\u001b[1m{\u001b[0m\n",
       "    \u001b[32m'original_answer'\u001b[0m: \u001b[32m'The maximum daily dose of ibuprofen for adults is 2400mg.'\u001b[0m,\n",
       "    \u001b[32m'hallucinated_answer'\u001b[0m: \u001b[32m'The maximum daily dose of ibuprofen for adults is 3200mg.'\u001b[0m,\n",
       "    \u001b[32m'hallucinated_parts'\u001b[0m: \u001b[1m[\u001b[0m\u001b[32m'3200mg'\u001b[0m\u001b[1m]\u001b[0m\n",
       "\u001b[1m}\u001b[0m\n"
      ]
     },
     "metadata": {},
     "output_type": "display_data"
    }
   ],
   "source": [
    "# Lets try to generate numerical errors\n",
    "result = generator.generate(\n",
    "    context=[\n",
    "        \"Ibuprofen is an NSAID that reduces inflammation and pain. The typical adult dose is 400-600mg every 6-8 hours, not exceeding 2400mg daily.\"\n",
    "    ],\n",
    "    question=\"What is the maximum daily dose of ibuprofen?\",\n",
    "    answer=\"The maximum daily dose of ibuprofen for adults is 2400mg.\",\n",
    "    error_types=[\"numerical\"],\n",
    ")\n",
    "\n",
    "console.print(result)"
   ]
  },
  {
   "cell_type": "code",
   "execution_count": 10,
   "id": "1c4add75",
   "metadata": {},
   "outputs": [],
   "source": [
    "# Lets try with low intensity\n",
    "result = generator.generate(\n",
    "    context=[\n",
    "        \"Ibuprofen is an NSAID that reduces inflammation and pain. The typical adult dose is 400-600mg every 6-8 hours, not exceeding 2400mg daily.\"\n",
    "    ],\n",
    "    question=\"What is the maximum daily dose of ibuprofen?\",\n",
    "    answer=\"The maximum daily dose of ibuprofen for adults is 2400mg.\",\n",
    "    error_types=[\"numerical\"],\n",
    "    intensity=0.1,\n",
    ")"
   ]
  },
  {
   "cell_type": "code",
   "execution_count": 11,
   "id": "4f612a47",
   "metadata": {},
   "outputs": [
    {
     "data": {
      "text/html": [
       "<pre style=\"white-space:pre;overflow-x:auto;line-height:normal;font-family:Menlo,'DejaVu Sans Mono',consolas,'Courier New',monospace\"><span style=\"font-weight: bold\">{</span>\n",
       "    <span style=\"color: #008000; text-decoration-color: #008000\">'original_answer'</span>: <span style=\"color: #008000; text-decoration-color: #008000\">'The maximum daily dose of ibuprofen for adults is 2400mg.'</span>,\n",
       "    <span style=\"color: #008000; text-decoration-color: #008000\">'hallucinated_answer'</span>: <span style=\"color: #008000; text-decoration-color: #008000\">'The maximum daily dose of ibuprofen for adults is 2500mg.'</span>,\n",
       "    <span style=\"color: #008000; text-decoration-color: #008000\">'hallucinated_parts'</span>: <span style=\"font-weight: bold\">[</span><span style=\"color: #008000; text-decoration-color: #008000\">'2500mg'</span><span style=\"font-weight: bold\">]</span>\n",
       "<span style=\"font-weight: bold\">}</span>\n",
       "</pre>\n"
      ],
      "text/plain": [
       "\u001b[1m{\u001b[0m\n",
       "    \u001b[32m'original_answer'\u001b[0m: \u001b[32m'The maximum daily dose of ibuprofen for adults is 2400mg.'\u001b[0m,\n",
       "    \u001b[32m'hallucinated_answer'\u001b[0m: \u001b[32m'The maximum daily dose of ibuprofen for adults is 2500mg.'\u001b[0m,\n",
       "    \u001b[32m'hallucinated_parts'\u001b[0m: \u001b[1m[\u001b[0m\u001b[32m'2500mg'\u001b[0m\u001b[1m]\u001b[0m\n",
       "\u001b[1m}\u001b[0m\n"
      ]
     },
     "metadata": {},
     "output_type": "display_data"
    }
   ],
   "source": [
    "console.print(result)"
   ]
  },
  {
   "cell_type": "code",
   "execution_count": 16,
   "id": "cd939938",
   "metadata": {},
   "outputs": [
    {
     "data": {
      "text/html": [
       "<pre style=\"white-space:pre;overflow-x:auto;line-height:normal;font-family:Menlo,'DejaVu Sans Mono',consolas,'Courier New',monospace\"><span style=\"font-weight: bold\">{</span>\n",
       "    <span style=\"color: #008000; text-decoration-color: #008000\">'original_answer'</span>: <span style=\"color: #008000; text-decoration-color: #008000\">'The maximum daily dose of ibuprofen for adults is 2400mg.'</span>,\n",
       "    <span style=\"color: #008000; text-decoration-color: #008000\">'hallucinated_answer'</span>: <span style=\"color: #008000; text-decoration-color: #008000\">'The maximum daily dose of ibuprofen for adults is 3200mg.'</span>,\n",
       "    <span style=\"color: #008000; text-decoration-color: #008000\">'hallucinated_parts'</span>: <span style=\"font-weight: bold\">[</span><span style=\"color: #008000; text-decoration-color: #008000\">'3200mg'</span><span style=\"font-weight: bold\">]</span>\n",
       "<span style=\"font-weight: bold\">}</span>\n",
       "</pre>\n"
      ],
      "text/plain": [
       "\u001b[1m{\u001b[0m\n",
       "    \u001b[32m'original_answer'\u001b[0m: \u001b[32m'The maximum daily dose of ibuprofen for adults is 2400mg.'\u001b[0m,\n",
       "    \u001b[32m'hallucinated_answer'\u001b[0m: \u001b[32m'The maximum daily dose of ibuprofen for adults is 3200mg.'\u001b[0m,\n",
       "    \u001b[32m'hallucinated_parts'\u001b[0m: \u001b[1m[\u001b[0m\u001b[32m'3200mg'\u001b[0m\u001b[1m]\u001b[0m\n",
       "\u001b[1m}\u001b[0m\n"
      ]
     },
     "metadata": {},
     "output_type": "display_data"
    }
   ],
   "source": [
    "# Now lets try to generate factual errors\n",
    "result = generator.generate(\n",
    "    context=[\n",
    "        \"Ibuprofen is an NSAID that reduces inflammation and pain. The typical adult dose is 400-600mg every 6-8 hours, not exceeding 2400mg daily.\"\n",
    "    ],\n",
    "    question=\"What is the maximum daily dose of ibuprofen?\",\n",
    "    answer=\"The maximum daily dose of ibuprofen for adults is 2400mg.\",\n",
    "    error_types=[\"factual\"],\n",
    "    intensity=0.4,\n",
    ")\n",
    "\n",
    "console.print(result)"
   ]
  },
  {
   "cell_type": "code",
   "execution_count": 17,
   "id": "31e3a3e6",
   "metadata": {},
   "outputs": [
    {
     "data": {
      "text/html": [
       "<pre style=\"white-space:pre;overflow-x:auto;line-height:normal;font-family:Menlo,'DejaVu Sans Mono',consolas,'Courier New',monospace\"><span style=\"font-weight: bold\">{</span>\n",
       "    <span style=\"color: #008000; text-decoration-color: #008000\">'original_answer'</span>: <span style=\"color: #008000; text-decoration-color: #008000\">'Apollo 11 landed on the Moon on July 20, 1969.'</span>,\n",
       "    <span style=\"color: #008000; text-decoration-color: #008000\">'hallucinated_answer'</span>: <span style=\"color: #008000; text-decoration-color: #008000\">'Apollo 11 landed on the Moon on July 21, 1969.'</span>,\n",
       "    <span style=\"color: #008000; text-decoration-color: #008000\">'hallucinated_parts'</span>: <span style=\"font-weight: bold\">[</span><span style=\"color: #008000; text-decoration-color: #008000\">'July 21, 1969'</span><span style=\"font-weight: bold\">]</span>\n",
       "<span style=\"font-weight: bold\">}</span>\n",
       "</pre>\n"
      ],
      "text/plain": [
       "\u001b[1m{\u001b[0m\n",
       "    \u001b[32m'original_answer'\u001b[0m: \u001b[32m'Apollo 11 landed on the Moon on July 20, 1969.'\u001b[0m,\n",
       "    \u001b[32m'hallucinated_answer'\u001b[0m: \u001b[32m'Apollo 11 landed on the Moon on July 21, 1969.'\u001b[0m,\n",
       "    \u001b[32m'hallucinated_parts'\u001b[0m: \u001b[1m[\u001b[0m\u001b[32m'July 21, 1969'\u001b[0m\u001b[1m]\u001b[0m\n",
       "\u001b[1m}\u001b[0m\n"
      ]
     },
     "metadata": {},
     "output_type": "display_data"
    }
   ],
   "source": [
    "# Another example: temporal errors\n",
    "result = generator.generate(\n",
    "    context=[\n",
    "        \"Apollo 11 was the first crewed mission to land on the Moon, touching down on July 20, 1969. Neil Armstrong and Buzz Aldrin spent about 21 hours on the lunar surface.\"\n",
    "    ],\n",
    "    question=\"On what date did Apollo 11 land on the Moon?\",\n",
    "    answer=\"Apollo 11 landed on the Moon on July 20, 1969.\",\n",
    "    error_types=[\"temporal\"],\n",
    "    intensity=0.5,\n",
    ")\n",
    "\n",
    "console.print(result)"
   ]
  },
  {
   "cell_type": "code",
   "execution_count": 21,
   "id": "b5f07a91",
   "metadata": {},
   "outputs": [
    {
     "data": {
      "text/html": [
       "<pre style=\"white-space:pre;overflow-x:auto;line-height:normal;font-family:Menlo,'DejaVu Sans Mono',consolas,'Courier New',monospace\"><span style=\"color: #800080; text-decoration-color: #800080; font-weight: bold\">SimpleBatchResult</span><span style=\"font-weight: bold\">(</span>\n",
       "    <span style=\"color: #808000; text-decoration-color: #808000\">results</span>=<span style=\"font-weight: bold\">[</span>\n",
       "        <span style=\"color: #800080; text-decoration-color: #800080; font-weight: bold\">HallucinationDataGeneratorOutput</span><span style=\"font-weight: bold\">(</span>\n",
       "            <span style=\"color: #808000; text-decoration-color: #808000\">generated_hlcntn_answer</span>=<span style=\"color: #008000; text-decoration-color: #008000\">'The maximum daily dose of ibuprofen for adults is 2800 mg as recommended since</span>\n",
       "<span style=\"color: #008000; text-decoration-color: #008000\">2019.'</span>,\n",
       "            <span style=\"color: #808000; text-decoration-color: #808000\">generated_non_hlcntn_answer</span>=<span style=\"color: #008000; text-decoration-color: #008000\">'The maximum daily dose of ibuprofen for adults is 2400mg.'</span>,\n",
       "            <span style=\"color: #808000; text-decoration-color: #808000\">hlcntn_part</span>=<span style=\"font-weight: bold\">[</span><span style=\"color: #008000; text-decoration-color: #008000\">'2800 mg'</span>, <span style=\"color: #008000; text-decoration-color: #008000\">'as recommended since 2019'</span><span style=\"font-weight: bold\">]</span>\n",
       "        <span style=\"font-weight: bold\">)</span>,\n",
       "        <span style=\"color: #800080; text-decoration-color: #800080; font-weight: bold\">HallucinationDataGeneratorOutput</span><span style=\"font-weight: bold\">(</span>\n",
       "            <span style=\"color: #808000; text-decoration-color: #808000\">generated_hlcntn_answer</span>=<span style=\"color: #008000; text-decoration-color: #008000\">'Apollo 11 landed on the Moon on July 21, 1969.'</span>,\n",
       "            <span style=\"color: #808000; text-decoration-color: #808000\">generated_non_hlcntn_answer</span>=<span style=\"color: #008000; text-decoration-color: #008000\">'Apollo 11 landed on the Moon on July 20, 1969.'</span>,\n",
       "            <span style=\"color: #808000; text-decoration-color: #808000\">hlcntn_part</span>=<span style=\"font-weight: bold\">[</span><span style=\"color: #008000; text-decoration-color: #008000\">'July 21, 1969'</span><span style=\"font-weight: bold\">]</span>\n",
       "        <span style=\"font-weight: bold\">)</span>\n",
       "    <span style=\"font-weight: bold\">]</span>,\n",
       "    <span style=\"color: #808000; text-decoration-color: #808000\">failed_indices</span>=<span style=\"font-weight: bold\">[]</span>,\n",
       "    <span style=\"color: #808000; text-decoration-color: #808000\">errors</span>=<span style=\"font-weight: bold\">[]</span>,\n",
       "    <span style=\"color: #808000; text-decoration-color: #808000\">total_time</span>=<span style=\"color: #008080; text-decoration-color: #008080; font-weight: bold\">16.986872911453247</span>,\n",
       "    <span style=\"color: #808000; text-decoration-color: #808000\">successful_count</span>=<span style=\"color: #008080; text-decoration-color: #008080; font-weight: bold\">2</span>,\n",
       "    <span style=\"color: #808000; text-decoration-color: #808000\">failed_count</span>=<span style=\"color: #008080; text-decoration-color: #008080; font-weight: bold\">0</span>\n",
       "<span style=\"font-weight: bold\">)</span>\n",
       "</pre>\n"
      ],
      "text/plain": [
       "\u001b[1;35mSimpleBatchResult\u001b[0m\u001b[1m(\u001b[0m\n",
       "    \u001b[33mresults\u001b[0m=\u001b[1m[\u001b[0m\n",
       "        \u001b[1;35mHallucinationDataGeneratorOutput\u001b[0m\u001b[1m(\u001b[0m\n",
       "            \u001b[33mgenerated_hlcntn_answer\u001b[0m=\u001b[32m'The maximum daily dose of ibuprofen for adults is 2800 mg as recommended since\u001b[0m\n",
       "\u001b[32m2019.'\u001b[0m,\n",
       "            \u001b[33mgenerated_non_hlcntn_answer\u001b[0m=\u001b[32m'The maximum daily dose of ibuprofen for adults is 2400mg.'\u001b[0m,\n",
       "            \u001b[33mhlcntn_part\u001b[0m=\u001b[1m[\u001b[0m\u001b[32m'2800 mg'\u001b[0m, \u001b[32m'as recommended since 2019'\u001b[0m\u001b[1m]\u001b[0m\n",
       "        \u001b[1m)\u001b[0m,\n",
       "        \u001b[1;35mHallucinationDataGeneratorOutput\u001b[0m\u001b[1m(\u001b[0m\n",
       "            \u001b[33mgenerated_hlcntn_answer\u001b[0m=\u001b[32m'Apollo 11 landed on the Moon on July 21, 1969.'\u001b[0m,\n",
       "            \u001b[33mgenerated_non_hlcntn_answer\u001b[0m=\u001b[32m'Apollo 11 landed on the Moon on July 20, 1969.'\u001b[0m,\n",
       "            \u001b[33mhlcntn_part\u001b[0m=\u001b[1m[\u001b[0m\u001b[32m'July 21, 1969'\u001b[0m\u001b[1m]\u001b[0m\n",
       "        \u001b[1m)\u001b[0m\n",
       "    \u001b[1m]\u001b[0m,\n",
       "    \u001b[33mfailed_indices\u001b[0m=\u001b[1m[\u001b[0m\u001b[1m]\u001b[0m,\n",
       "    \u001b[33merrors\u001b[0m=\u001b[1m[\u001b[0m\u001b[1m]\u001b[0m,\n",
       "    \u001b[33mtotal_time\u001b[0m=\u001b[1;36m16\u001b[0m\u001b[1;36m.986872911453247\u001b[0m,\n",
       "    \u001b[33msuccessful_count\u001b[0m=\u001b[1;36m2\u001b[0m,\n",
       "    \u001b[33mfailed_count\u001b[0m=\u001b[1;36m0\u001b[0m\n",
       "\u001b[1m)\u001b[0m\n"
      ]
     },
     "metadata": {},
     "output_type": "display_data"
    }
   ],
   "source": [
    "# Hallucinations can be generated in batch as well\n",
    "\n",
    "\n",
    "async def generate_batch(contexts, questions, answers, error_types, intensity):\n",
    "    generator = HallucinationGenerator(model=\"gpt-5-mini\", temperature=1.0)\n",
    "    results = await generator.generate_batch_async(\n",
    "        contexts, questions, answers, error_types, intensity\n",
    "    )\n",
    "    return results\n",
    "\n",
    "\n",
    "# Lets try to generate a batch of hallucinations\n",
    "contexts = [\n",
    "    \"Ibuprofen is an NSAID that reduces inflammation and pain. The typical adult dose is 400-600mg every 6-8 hours, not exceeding 2400mg daily.\",\n",
    "    \"Apollo 11 was the first crewed mission to land on the Moon, touching down on July 20, 1969. Neil Armstrong and Buzz Aldrin spent about 21 hours on the lunar surface.\",\n",
    "]\n",
    "questions = [\n",
    "    \"What is the maximum daily dose of ibuprofen?\",\n",
    "    \"On what date did Apollo 11 land on the Moon?\",\n",
    "]\n",
    "answers = [\n",
    "    \"The maximum daily dose of ibuprofen for adults is 2400mg.\",\n",
    "    \"Apollo 11 landed on the Moon on July 20, 1969.\",\n",
    "]\n",
    "error_types = [\"numerical\", \"temporal\"]\n",
    "intensity = 0.5\n",
    "\n",
    "results = await generate_batch(contexts, questions, answers, error_types, intensity)\n",
    "console.print(results)"
   ]
  },
  {
   "cell_type": "markdown",
   "id": "e4c97223",
   "metadata": {},
   "source": [
    "## The rag-mini-BioASQ dataset\n",
    "\n",
    "The rag-mini-BioASQ dataset is a rag dataset of biomedical questions and answers together with their corresponding context.\n",
    "\n",
    "We can use the HuggingFace `datasets` library to load the dataset.\n",
    "\n"
   ]
  },
  {
   "cell_type": "code",
   "execution_count": 25,
   "id": "44185421",
   "metadata": {},
   "outputs": [
    {
     "data": {
      "text/html": [
       "<pre style=\"white-space:pre;overflow-x:auto;line-height:normal;font-family:Menlo,'DejaVu Sans Mono',consolas,'Courier New',monospace\"><span style=\"font-weight: bold\">{</span>\n",
       "    <span style=\"color: #008000; text-decoration-color: #008000\">'question'</span>: <span style=\"color: #008000; text-decoration-color: #008000\">'What is the applicability of the No Promoter Left Behind method?'</span>,\n",
       "    <span style=\"color: #008000; text-decoration-color: #008000\">'answer'</span>: <span style=\"color: #008000; text-decoration-color: #008000\">'No Promoter Left Behind (NPLB) is an efficient, organism-independent method for characterizing </span>\n",
       "<span style=\"color: #008000; text-decoration-color: #008000\">promoter architectures directly from experimentally identified genome-wide TSSs, without relying on known promoter </span>\n",
       "<span style=\"color: #008000; text-decoration-color: #008000\">elements.'</span>,\n",
       "    <span style=\"color: #008000; text-decoration-color: #008000\">'context'</span>: <span style=\"font-weight: bold\">[</span>\n",
       "        <span style=\"color: #008000; text-decoration-color: #008000\">'Promoters have diverse regulatory architectures and thus activate genes \\ndifferently. For example, some </span>\n",
       "<span style=\"color: #008000; text-decoration-color: #008000\">have a TATA-box, many others do not. Even the \\nones with it can differ in its position relative to the </span>\n",
       "<span style=\"color: #008000; text-decoration-color: #008000\">transcription start site \\n(TSS). No Promoter Left Behind (NPLB) is an efficient, organism-independent \\nmethod for</span>\n",
       "<span style=\"color: #008000; text-decoration-color: #008000\">characterizing such diverse architectures directly from \\nexperimentally identified genome-wide TSSs, without </span>\n",
       "<span style=\"color: #008000; text-decoration-color: #008000\">relying on known promoter \\nelements. As a test case, we show its application in identifying novel \\narchitectures </span>\n",
       "<span style=\"color: #008000; text-decoration-color: #008000\">in the fly genome.\\nAVAILABILITY AND IMPLEMENTATION: Web-server at http://nplb.ncl.res.in Standalone \\nalso at </span>\n",
       "<span style=\"color: #008000; text-decoration-color: #008000\">https://github.com/computationalBiology/NPLB/ (Mac OSX/Linux).\\nCONTACT: l.narlikar@ncl.res.in\\nSUPPLEMENTARY </span>\n",
       "<span style=\"color: #008000; text-decoration-color: #008000\">INFORMATION: Supplementary data are available at Bioinformatics \\nonline.'</span>\n",
       "    <span style=\"font-weight: bold\">]</span>\n",
       "<span style=\"font-weight: bold\">}</span>\n",
       "</pre>\n"
      ],
      "text/plain": [
       "\u001b[1m{\u001b[0m\n",
       "    \u001b[32m'question'\u001b[0m: \u001b[32m'What is the applicability of the No Promoter Left Behind method?'\u001b[0m,\n",
       "    \u001b[32m'answer'\u001b[0m: \u001b[32m'No Promoter Left Behind \u001b[0m\u001b[32m(\u001b[0m\u001b[32mNPLB\u001b[0m\u001b[32m)\u001b[0m\u001b[32m is an efficient, organism-independent method for characterizing \u001b[0m\n",
       "\u001b[32mpromoter architectures directly from experimentally identified genome-wide TSSs, without relying on known promoter \u001b[0m\n",
       "\u001b[32melements.'\u001b[0m,\n",
       "    \u001b[32m'context'\u001b[0m: \u001b[1m[\u001b[0m\n",
       "        \u001b[32m'Promoters have diverse regulatory architectures and thus activate genes \\ndifferently. For example, some \u001b[0m\n",
       "\u001b[32mhave a TATA-box, many others do not. Even the \\nones with it can differ in its position relative to the \u001b[0m\n",
       "\u001b[32mtranscription start site \\n\u001b[0m\u001b[32m(\u001b[0m\u001b[32mTSS\u001b[0m\u001b[32m)\u001b[0m\u001b[32m. No Promoter Left Behind \u001b[0m\u001b[32m(\u001b[0m\u001b[32mNPLB\u001b[0m\u001b[32m)\u001b[0m\u001b[32m is an efficient, organism-independent \\nmethod for\u001b[0m\n",
       "\u001b[32mcharacterizing such diverse architectures directly from \\nexperimentally identified genome-wide TSSs, without \u001b[0m\n",
       "\u001b[32mrelying on known promoter \\nelements. As a test case, we show its application in identifying novel \\narchitectures \u001b[0m\n",
       "\u001b[32min the fly genome.\\nAVAILABILITY AND IMPLEMENTATION: Web-server at http://nplb.ncl.res.in Standalone \\nalso at \u001b[0m\n",
       "\u001b[32mhttps://github.com/computationalBiology/NPLB/ \u001b[0m\u001b[32m(\u001b[0m\u001b[32mMac OSX/Linux\u001b[0m\u001b[32m)\u001b[0m\u001b[32m.\\nCONTACT: l.narlikar@ncl.res.in\\nSUPPLEMENTARY \u001b[0m\n",
       "\u001b[32mINFORMATION: Supplementary data are available at Bioinformatics \\nonline.'\u001b[0m\n",
       "    \u001b[1m]\u001b[0m\n",
       "\u001b[1m}\u001b[0m\n"
      ]
     },
     "metadata": {},
     "output_type": "display_data"
    }
   ],
   "source": [
    "def load_rag_mini_bioasq(split: str = \"train\", filter_min_words: int = 10):\n",
    "    \"\"\"Load rag-mini-bioasq dataset and prepare for generation.\"\"\"\n",
    "    try:\n",
    "        from datasets import load_dataset\n",
    "    except ImportError:\n",
    "        raise ImportError(\"datasets package required. Install with: pip install datasets\")\n",
    "\n",
    "    # Load dataset\n",
    "    qa_dataset = load_dataset(\"enelpol/rag-mini-bioasq\", \"question-answer-passages\")\n",
    "    corpus_dataset = load_dataset(\"enelpol/rag-mini-bioasq\", \"text-corpus\")\n",
    "\n",
    "    # Create corpus lookup\n",
    "    corpus_lookup = {item[\"id\"]: item[\"passage\"] for item in corpus_dataset[\"test\"]}\n",
    "\n",
    "    # Process data\n",
    "    processed_data = []\n",
    "    for item in qa_dataset[split]:\n",
    "        passage_ids = item[\"relevant_passage_ids\"]\n",
    "        context_passages = [corpus_lookup.get(pid, None) for pid in passage_ids]\n",
    "        context_passages = [p for p in context_passages if p is not None]\n",
    "\n",
    "        # Filter by answer length\n",
    "        if len(item[\"answer\"].split()) >= filter_min_words:\n",
    "            processed_data.append(\n",
    "                {\n",
    "                    \"question\": item[\"question\"],\n",
    "                    \"answer\": item[\"answer\"],\n",
    "                    \"context\": context_passages,\n",
    "                }\n",
    "            )\n",
    "\n",
    "    return processed_data\n",
    "\n",
    "\n",
    "# Lets load the dataset\n",
    "data = load_rag_mini_bioasq()\n",
    "\n",
    "# Lets take a look at an example sample\n",
    "console.print(data[3])"
   ]
  },
  {
   "cell_type": "code",
   "execution_count": 26,
   "id": "db23fb5e",
   "metadata": {},
   "outputs": [
    {
     "data": {
      "text/html": [
       "<pre style=\"white-space:pre;overflow-x:auto;line-height:normal;font-family:Menlo,'DejaVu Sans Mono',consolas,'Courier New',monospace\"><span style=\"font-weight: bold\">{</span>\n",
       "    <span style=\"color: #008000; text-decoration-color: #008000\">'original_answer'</span>: <span style=\"color: #008000; text-decoration-color: #008000\">'No Promoter Left Behind (NPLB) is an efficient, organism-independent method for </span>\n",
       "<span style=\"color: #008000; text-decoration-color: #008000\">characterizing promoter architectures directly from experimentally identified genome-wide TSSs, without relying on </span>\n",
       "<span style=\"color: #008000; text-decoration-color: #008000\">known promoter elements.'</span>,\n",
       "    <span style=\"color: #008000; text-decoration-color: #008000\">'hallucinated_answer'</span>: <span style=\"color: #008000; text-decoration-color: #008000\">'No Promoter Left Behind (NPLB) is an efficient, organism-specific method for </span>\n",
       "<span style=\"color: #008000; text-decoration-color: #008000\">characterizing promoter architectures from computationally inferred genome-wide TSSs, often leveraging known </span>\n",
       "<span style=\"color: #008000; text-decoration-color: #008000\">promoter elements; it was primarily applied before 2010 and typically analyzes about 8,000 TSSs per dataset.'</span>,\n",
       "    <span style=\"color: #008000; text-decoration-color: #008000\">'hallucinated_parts'</span>: <span style=\"font-weight: bold\">[</span>\n",
       "        <span style=\"color: #008000; text-decoration-color: #008000\">'organism-specific'</span>,\n",
       "        <span style=\"color: #008000; text-decoration-color: #008000\">'from computationally inferred genome-wide TSSs'</span>,\n",
       "        <span style=\"color: #008000; text-decoration-color: #008000\">'often leveraging known promoter elements'</span>,\n",
       "        <span style=\"color: #008000; text-decoration-color: #008000\">'it was primarily applied before 2010'</span>,\n",
       "        <span style=\"color: #008000; text-decoration-color: #008000\">'typically analyzes about 8,000 TSSs per dataset'</span>\n",
       "    <span style=\"font-weight: bold\">]</span>\n",
       "<span style=\"font-weight: bold\">}</span>\n",
       "</pre>\n"
      ],
      "text/plain": [
       "\u001b[1m{\u001b[0m\n",
       "    \u001b[32m'original_answer'\u001b[0m: \u001b[32m'No Promoter Left Behind \u001b[0m\u001b[32m(\u001b[0m\u001b[32mNPLB\u001b[0m\u001b[32m)\u001b[0m\u001b[32m is an efficient, organism-independent method for \u001b[0m\n",
       "\u001b[32mcharacterizing promoter architectures directly from experimentally identified genome-wide TSSs, without relying on \u001b[0m\n",
       "\u001b[32mknown promoter elements.'\u001b[0m,\n",
       "    \u001b[32m'hallucinated_answer'\u001b[0m: \u001b[32m'No Promoter Left Behind \u001b[0m\u001b[32m(\u001b[0m\u001b[32mNPLB\u001b[0m\u001b[32m)\u001b[0m\u001b[32m is an efficient, organism-specific method for \u001b[0m\n",
       "\u001b[32mcharacterizing promoter architectures from computationally inferred genome-wide TSSs, often leveraging known \u001b[0m\n",
       "\u001b[32mpromoter elements; it was primarily applied before 2010 and typically analyzes about 8,000 TSSs per dataset.'\u001b[0m,\n",
       "    \u001b[32m'hallucinated_parts'\u001b[0m: \u001b[1m[\u001b[0m\n",
       "        \u001b[32m'organism-specific'\u001b[0m,\n",
       "        \u001b[32m'from computationally inferred genome-wide TSSs'\u001b[0m,\n",
       "        \u001b[32m'often leveraging known promoter elements'\u001b[0m,\n",
       "        \u001b[32m'it was primarily applied before 2010'\u001b[0m,\n",
       "        \u001b[32m'typically analyzes about 8,000 TSSs per dataset'\u001b[0m\n",
       "    \u001b[1m]\u001b[0m\n",
       "\u001b[1m}\u001b[0m\n"
      ]
     },
     "metadata": {},
     "output_type": "display_data"
    }
   ],
   "source": [
    "# You can easily use the generator to generate hallucinations for the dataset\n",
    "result = generator.generate(\n",
    "    context=data[3][\"context\"],\n",
    "    question=data[3][\"question\"],\n",
    "    answer=data[3][\"answer\"],\n",
    ")\n",
    "\n",
    "console.print(result)"
   ]
  },
  {
   "cell_type": "code",
   "execution_count": 28,
   "id": "b3972a0c",
   "metadata": {},
   "outputs": [
    {
     "data": {
      "text/html": [
       "<pre style=\"white-space:pre;overflow-x:auto;line-height:normal;font-family:Menlo,'DejaVu Sans Mono',consolas,'Courier New',monospace\"><span style=\"font-weight: bold\">[</span>\n",
       "    <span style=\"font-weight: bold\">{</span>\n",
       "        <span style=\"color: #008000; text-decoration-color: #008000\">'prompt'</span>: <span style=\"color: #008000; text-decoration-color: #008000\">'Briefly answer the following question:\\nWhat is the applicability of the No Promoter Left Behind</span>\n",
       "<span style=\"color: #008000; text-decoration-color: #008000\">method?\\nBear in mind that your response should be strictly based on the following 1 passages:\\npassage 1: </span>\n",
       "<span style=\"color: #008000; text-decoration-color: #008000\">Promoters have diverse regulatory architectures and thus activate genes \\ndifferently. For example, some have a </span>\n",
       "<span style=\"color: #008000; text-decoration-color: #008000\">TATA-box, many others do not. Even the \\nones with it can differ in its position relative to the transcription </span>\n",
       "<span style=\"color: #008000; text-decoration-color: #008000\">start site \\n(TSS). No Promoter Left Behind (NPLB) is an efficient, organism-independent \\nmethod for </span>\n",
       "<span style=\"color: #008000; text-decoration-color: #008000\">characterizing such diverse architectures directly from \\nexperimentally identified genome-wide TSSs, without </span>\n",
       "<span style=\"color: #008000; text-decoration-color: #008000\">relying on known promoter \\nelements. As a test case, we show its application in identifying novel \\narchitectures </span>\n",
       "<span style=\"color: #008000; text-decoration-color: #008000\">in the fly genome.\\nAVAILABILITY AND IMPLEMENTATION: Web-server at http://nplb.ncl.res.in Standalone \\nalso at </span>\n",
       "<span style=\"color: #008000; text-decoration-color: #008000\">https://github.com/computationalBiology/NPLB/ (Mac OSX/Linux).\\nCONTACT: l.narlikar@ncl.res.in\\nSUPPLEMENTARY </span>\n",
       "<span style=\"color: #008000; text-decoration-color: #008000\">INFORMATION: Supplementary data are available at Bioinformatics \\nonline.\\nIn case the passages do not contain the </span>\n",
       "<span style=\"color: #008000; text-decoration-color: #008000\">necessary information to answer the question, please reply with: \"Unable to answer based on given </span>\n",
       "<span style=\"color: #008000; text-decoration-color: #008000\">passages.\"\\noutput:'</span>,\n",
       "        <span style=\"color: #008000; text-decoration-color: #008000\">'answer'</span>: <span style=\"color: #008000; text-decoration-color: #008000\">'No Promoter Left Behind (NPLB) is an efficient, organism-independent method for characterizing </span>\n",
       "<span style=\"color: #008000; text-decoration-color: #008000\">promoter architectures directly from experimentally identified genome-wide TSSs, without relying on known promoter </span>\n",
       "<span style=\"color: #008000; text-decoration-color: #008000\">elements.'</span>,\n",
       "        <span style=\"color: #008000; text-decoration-color: #008000\">'labels'</span>: <span style=\"font-weight: bold\">[]</span>,\n",
       "        <span style=\"color: #008000; text-decoration-color: #008000\">'split'</span>: <span style=\"color: #008000; text-decoration-color: #008000\">'train'</span>,\n",
       "        <span style=\"color: #008000; text-decoration-color: #008000\">'task_type'</span>: <span style=\"color: #008000; text-decoration-color: #008000\">'qa'</span>\n",
       "    <span style=\"font-weight: bold\">}</span>,\n",
       "    <span style=\"font-weight: bold\">{</span>\n",
       "        <span style=\"color: #008000; text-decoration-color: #008000\">'prompt'</span>: <span style=\"color: #008000; text-decoration-color: #008000\">'Briefly answer the following question:\\nWhat is the applicability of the No Promoter Left Behind</span>\n",
       "<span style=\"color: #008000; text-decoration-color: #008000\">method?\\nBear in mind that your response should be strictly based on the following 1 passages:\\npassage 1: </span>\n",
       "<span style=\"color: #008000; text-decoration-color: #008000\">Promoters have diverse regulatory architectures and thus activate genes \\ndifferently. For example, some have a </span>\n",
       "<span style=\"color: #008000; text-decoration-color: #008000\">TATA-box, many others do not. Even the \\nones with it can differ in its position relative to the transcription </span>\n",
       "<span style=\"color: #008000; text-decoration-color: #008000\">start site \\n(TSS). No Promoter Left Behind (NPLB) is an efficient, organism-independent \\nmethod for </span>\n",
       "<span style=\"color: #008000; text-decoration-color: #008000\">characterizing such diverse architectures directly from \\nexperimentally identified genome-wide TSSs, without </span>\n",
       "<span style=\"color: #008000; text-decoration-color: #008000\">relying on known promoter \\nelements. As a test case, we show its application in identifying novel \\narchitectures </span>\n",
       "<span style=\"color: #008000; text-decoration-color: #008000\">in the fly genome.\\nAVAILABILITY AND IMPLEMENTATION: Web-server at http://nplb.ncl.res.in Standalone \\nalso at </span>\n",
       "<span style=\"color: #008000; text-decoration-color: #008000\">https://github.com/computationalBiology/NPLB/ (Mac OSX/Linux).\\nCONTACT: l.narlikar@ncl.res.in\\nSUPPLEMENTARY </span>\n",
       "<span style=\"color: #008000; text-decoration-color: #008000\">INFORMATION: Supplementary data are available at Bioinformatics \\nonline.\\nIn case the passages do not contain the </span>\n",
       "<span style=\"color: #008000; text-decoration-color: #008000\">necessary information to answer the question, please reply with: \"Unable to answer based on given </span>\n",
       "<span style=\"color: #008000; text-decoration-color: #008000\">passages.\"\\noutput:'</span>,\n",
       "        <span style=\"color: #008000; text-decoration-color: #008000\">'answer'</span>: <span style=\"color: #008000; text-decoration-color: #008000\">'No Promoter Left Behind (NPLB) is an efficient, organism-specific method for characterizing </span>\n",
       "<span style=\"color: #008000; text-decoration-color: #008000\">promoter architectures from computationally inferred genome-wide TSSs, often leveraging known promoter elements; it</span>\n",
       "<span style=\"color: #008000; text-decoration-color: #008000\">was primarily applied before 2010 and typically analyzes about 8,000 TSSs per dataset.'</span>,\n",
       "        <span style=\"color: #008000; text-decoration-color: #008000\">'labels'</span>: <span style=\"font-weight: bold\">[</span>\n",
       "            <span style=\"font-weight: bold\">{</span><span style=\"color: #008000; text-decoration-color: #008000\">'start'</span>: <span style=\"color: #008080; text-decoration-color: #008080; font-weight: bold\">48</span>, <span style=\"color: #008000; text-decoration-color: #008000\">'end'</span>: <span style=\"color: #008080; text-decoration-color: #008080; font-weight: bold\">65</span>, <span style=\"color: #008000; text-decoration-color: #008000\">'label'</span>: <span style=\"color: #008000; text-decoration-color: #008000\">'hallucinated'</span><span style=\"font-weight: bold\">}</span>,\n",
       "            <span style=\"font-weight: bold\">{</span><span style=\"color: #008000; text-decoration-color: #008000\">'start'</span>: <span style=\"color: #008080; text-decoration-color: #008080; font-weight: bold\">115</span>, <span style=\"color: #008000; text-decoration-color: #008000\">'end'</span>: <span style=\"color: #008080; text-decoration-color: #008080; font-weight: bold\">161</span>, <span style=\"color: #008000; text-decoration-color: #008000\">'label'</span>: <span style=\"color: #008000; text-decoration-color: #008000\">'hallucinated'</span><span style=\"font-weight: bold\">}</span>,\n",
       "            <span style=\"font-weight: bold\">{</span><span style=\"color: #008000; text-decoration-color: #008000\">'start'</span>: <span style=\"color: #008080; text-decoration-color: #008080; font-weight: bold\">163</span>, <span style=\"color: #008000; text-decoration-color: #008000\">'end'</span>: <span style=\"color: #008080; text-decoration-color: #008080; font-weight: bold\">203</span>, <span style=\"color: #008000; text-decoration-color: #008000\">'label'</span>: <span style=\"color: #008000; text-decoration-color: #008000\">'hallucinated'</span><span style=\"font-weight: bold\">}</span>,\n",
       "            <span style=\"font-weight: bold\">{</span><span style=\"color: #008000; text-decoration-color: #008000\">'start'</span>: <span style=\"color: #008080; text-decoration-color: #008080; font-weight: bold\">205</span>, <span style=\"color: #008000; text-decoration-color: #008000\">'end'</span>: <span style=\"color: #008080; text-decoration-color: #008080; font-weight: bold\">241</span>, <span style=\"color: #008000; text-decoration-color: #008000\">'label'</span>: <span style=\"color: #008000; text-decoration-color: #008000\">'hallucinated'</span><span style=\"font-weight: bold\">}</span>,\n",
       "            <span style=\"font-weight: bold\">{</span><span style=\"color: #008000; text-decoration-color: #008000\">'start'</span>: <span style=\"color: #008080; text-decoration-color: #008080; font-weight: bold\">246</span>, <span style=\"color: #008000; text-decoration-color: #008000\">'end'</span>: <span style=\"color: #008080; text-decoration-color: #008080; font-weight: bold\">293</span>, <span style=\"color: #008000; text-decoration-color: #008000\">'label'</span>: <span style=\"color: #008000; text-decoration-color: #008000\">'hallucinated'</span><span style=\"font-weight: bold\">}</span>\n",
       "        <span style=\"font-weight: bold\">]</span>,\n",
       "        <span style=\"color: #008000; text-decoration-color: #008000\">'split'</span>: <span style=\"color: #008000; text-decoration-color: #008000\">'train'</span>,\n",
       "        <span style=\"color: #008000; text-decoration-color: #008000\">'task_type'</span>: <span style=\"color: #008000; text-decoration-color: #008000\">'qa'</span>\n",
       "    <span style=\"font-weight: bold\">}</span>\n",
       "<span style=\"font-weight: bold\">]</span>\n",
       "</pre>\n"
      ],
      "text/plain": [
       "\u001b[1m[\u001b[0m\n",
       "    \u001b[1m{\u001b[0m\n",
       "        \u001b[32m'prompt'\u001b[0m: \u001b[32m'Briefly answer the following question:\\nWhat is the applicability of the No Promoter Left Behind\u001b[0m\n",
       "\u001b[32mmethod?\\nBear in mind that your response should be strictly based on the following 1 passages:\\npassage 1: \u001b[0m\n",
       "\u001b[32mPromoters have diverse regulatory architectures and thus activate genes \\ndifferently. For example, some have a \u001b[0m\n",
       "\u001b[32mTATA-box, many others do not. Even the \\nones with it can differ in its position relative to the transcription \u001b[0m\n",
       "\u001b[32mstart site \\n\u001b[0m\u001b[32m(\u001b[0m\u001b[32mTSS\u001b[0m\u001b[32m)\u001b[0m\u001b[32m. No Promoter Left Behind \u001b[0m\u001b[32m(\u001b[0m\u001b[32mNPLB\u001b[0m\u001b[32m)\u001b[0m\u001b[32m is an efficient, organism-independent \\nmethod for \u001b[0m\n",
       "\u001b[32mcharacterizing such diverse architectures directly from \\nexperimentally identified genome-wide TSSs, without \u001b[0m\n",
       "\u001b[32mrelying on known promoter \\nelements. As a test case, we show its application in identifying novel \\narchitectures \u001b[0m\n",
       "\u001b[32min the fly genome.\\nAVAILABILITY AND IMPLEMENTATION: Web-server at http://nplb.ncl.res.in Standalone \\nalso at \u001b[0m\n",
       "\u001b[32mhttps://github.com/computationalBiology/NPLB/ \u001b[0m\u001b[32m(\u001b[0m\u001b[32mMac OSX/Linux\u001b[0m\u001b[32m)\u001b[0m\u001b[32m.\\nCONTACT: l.narlikar@ncl.res.in\\nSUPPLEMENTARY \u001b[0m\n",
       "\u001b[32mINFORMATION: Supplementary data are available at Bioinformatics \\nonline.\\nIn case the passages do not contain the \u001b[0m\n",
       "\u001b[32mnecessary information to answer the question, please reply with: \"Unable to answer based on given \u001b[0m\n",
       "\u001b[32mpassages.\"\\noutput:'\u001b[0m,\n",
       "        \u001b[32m'answer'\u001b[0m: \u001b[32m'No Promoter Left Behind \u001b[0m\u001b[32m(\u001b[0m\u001b[32mNPLB\u001b[0m\u001b[32m)\u001b[0m\u001b[32m is an efficient, organism-independent method for characterizing \u001b[0m\n",
       "\u001b[32mpromoter architectures directly from experimentally identified genome-wide TSSs, without relying on known promoter \u001b[0m\n",
       "\u001b[32melements.'\u001b[0m,\n",
       "        \u001b[32m'labels'\u001b[0m: \u001b[1m[\u001b[0m\u001b[1m]\u001b[0m,\n",
       "        \u001b[32m'split'\u001b[0m: \u001b[32m'train'\u001b[0m,\n",
       "        \u001b[32m'task_type'\u001b[0m: \u001b[32m'qa'\u001b[0m\n",
       "    \u001b[1m}\u001b[0m,\n",
       "    \u001b[1m{\u001b[0m\n",
       "        \u001b[32m'prompt'\u001b[0m: \u001b[32m'Briefly answer the following question:\\nWhat is the applicability of the No Promoter Left Behind\u001b[0m\n",
       "\u001b[32mmethod?\\nBear in mind that your response should be strictly based on the following 1 passages:\\npassage 1: \u001b[0m\n",
       "\u001b[32mPromoters have diverse regulatory architectures and thus activate genes \\ndifferently. For example, some have a \u001b[0m\n",
       "\u001b[32mTATA-box, many others do not. Even the \\nones with it can differ in its position relative to the transcription \u001b[0m\n",
       "\u001b[32mstart site \\n\u001b[0m\u001b[32m(\u001b[0m\u001b[32mTSS\u001b[0m\u001b[32m)\u001b[0m\u001b[32m. No Promoter Left Behind \u001b[0m\u001b[32m(\u001b[0m\u001b[32mNPLB\u001b[0m\u001b[32m)\u001b[0m\u001b[32m is an efficient, organism-independent \\nmethod for \u001b[0m\n",
       "\u001b[32mcharacterizing such diverse architectures directly from \\nexperimentally identified genome-wide TSSs, without \u001b[0m\n",
       "\u001b[32mrelying on known promoter \\nelements. As a test case, we show its application in identifying novel \\narchitectures \u001b[0m\n",
       "\u001b[32min the fly genome.\\nAVAILABILITY AND IMPLEMENTATION: Web-server at http://nplb.ncl.res.in Standalone \\nalso at \u001b[0m\n",
       "\u001b[32mhttps://github.com/computationalBiology/NPLB/ \u001b[0m\u001b[32m(\u001b[0m\u001b[32mMac OSX/Linux\u001b[0m\u001b[32m)\u001b[0m\u001b[32m.\\nCONTACT: l.narlikar@ncl.res.in\\nSUPPLEMENTARY \u001b[0m\n",
       "\u001b[32mINFORMATION: Supplementary data are available at Bioinformatics \\nonline.\\nIn case the passages do not contain the \u001b[0m\n",
       "\u001b[32mnecessary information to answer the question, please reply with: \"Unable to answer based on given \u001b[0m\n",
       "\u001b[32mpassages.\"\\noutput:'\u001b[0m,\n",
       "        \u001b[32m'answer'\u001b[0m: \u001b[32m'No Promoter Left Behind \u001b[0m\u001b[32m(\u001b[0m\u001b[32mNPLB\u001b[0m\u001b[32m)\u001b[0m\u001b[32m is an efficient, organism-specific method for characterizing \u001b[0m\n",
       "\u001b[32mpromoter architectures from computationally inferred genome-wide TSSs, often leveraging known promoter elements; it\u001b[0m\n",
       "\u001b[32mwas primarily applied before 2010 and typically analyzes about 8,000 TSSs per dataset.'\u001b[0m,\n",
       "        \u001b[32m'labels'\u001b[0m: \u001b[1m[\u001b[0m\n",
       "            \u001b[1m{\u001b[0m\u001b[32m'start'\u001b[0m: \u001b[1;36m48\u001b[0m, \u001b[32m'end'\u001b[0m: \u001b[1;36m65\u001b[0m, \u001b[32m'label'\u001b[0m: \u001b[32m'hallucinated'\u001b[0m\u001b[1m}\u001b[0m,\n",
       "            \u001b[1m{\u001b[0m\u001b[32m'start'\u001b[0m: \u001b[1;36m115\u001b[0m, \u001b[32m'end'\u001b[0m: \u001b[1;36m161\u001b[0m, \u001b[32m'label'\u001b[0m: \u001b[32m'hallucinated'\u001b[0m\u001b[1m}\u001b[0m,\n",
       "            \u001b[1m{\u001b[0m\u001b[32m'start'\u001b[0m: \u001b[1;36m163\u001b[0m, \u001b[32m'end'\u001b[0m: \u001b[1;36m203\u001b[0m, \u001b[32m'label'\u001b[0m: \u001b[32m'hallucinated'\u001b[0m\u001b[1m}\u001b[0m,\n",
       "            \u001b[1m{\u001b[0m\u001b[32m'start'\u001b[0m: \u001b[1;36m205\u001b[0m, \u001b[32m'end'\u001b[0m: \u001b[1;36m241\u001b[0m, \u001b[32m'label'\u001b[0m: \u001b[32m'hallucinated'\u001b[0m\u001b[1m}\u001b[0m,\n",
       "            \u001b[1m{\u001b[0m\u001b[32m'start'\u001b[0m: \u001b[1;36m246\u001b[0m, \u001b[32m'end'\u001b[0m: \u001b[1;36m293\u001b[0m, \u001b[32m'label'\u001b[0m: \u001b[32m'hallucinated'\u001b[0m\u001b[1m}\u001b[0m\n",
       "        \u001b[1m]\u001b[0m,\n",
       "        \u001b[32m'split'\u001b[0m: \u001b[32m'train'\u001b[0m,\n",
       "        \u001b[32m'task_type'\u001b[0m: \u001b[32m'qa'\u001b[0m\n",
       "    \u001b[1m}\u001b[0m\n",
       "\u001b[1m]\u001b[0m\n"
      ]
     },
     "metadata": {},
     "output_type": "display_data"
    }
   ],
   "source": [
    "# You can easily convert this to the format LettuceDetect uses for training\n",
    "from lettucedetect.detectors.prompt_utils import PromptUtils\n",
    "\n",
    "train_data = []\n",
    "\n",
    "# Add the non-hallucinated sample\n",
    "train_data.append(\n",
    "    {\n",
    "        \"prompt\": PromptUtils.format_context(data[3][\"context\"], data[3][\"question\"], lang=\"en\"),\n",
    "        \"answer\": result[\"original_answer\"],\n",
    "        \"labels\": [],\n",
    "        \"split\": \"train\",\n",
    "        \"task_type\": \"qa\",\n",
    "    }\n",
    ")\n",
    "\n",
    "hallucinated_labels = []\n",
    "for part in result[\"hallucinated_parts\"]:\n",
    "    start = result[\"hallucinated_answer\"].find(part)\n",
    "    if start != -1:\n",
    "        hallucinated_labels.append(\n",
    "            {\"start\": start, \"end\": start + len(part), \"label\": \"hallucinated\"}\n",
    "        )\n",
    "# Add the hallucinated sample\n",
    "train_data.append(\n",
    "    {\n",
    "        \"prompt\": PromptUtils.format_context(data[3][\"context\"], data[3][\"question\"], lang=\"en\"),\n",
    "        \"answer\": result[\"hallucinated_answer\"],\n",
    "        \"labels\": hallucinated_labels,\n",
    "        \"split\": \"train\",\n",
    "        \"task_type\": \"qa\",\n",
    "    }\n",
    ")\n",
    "\n",
    "console.print(train_data)"
   ]
  },
  {
   "cell_type": "markdown",
   "id": "3cdc1dbd",
   "metadata": {},
   "source": [
    "## Save and train\n",
    "\n",
    "Now you can save the data and train a model. First lets save the data.\n",
    "\n",
    "```python\n",
    "import json\n",
    "\n",
    "with open('train_data.json', 'w') as f:\n",
    "    json.dump(train_data, f)\n",
    "```\n",
    "\n",
    "Now you can train a model.\n",
    "\n",
    "```bash\n",
    "python scripts/train.py \\\n",
    "    --ragtruth-path train_data.json \\\n",
    "    --model-name jhu-clsp/ettin-encoder-68m \\\n",
    "    --output-dir output/hallucination_detector \\\n",
    "    --batch-size 4 \\\n",
    "    --epochs 6 \\\n",
    "    --learning-rate 1e-5 \n",
    "```\n",
    "\n",
    "**And that's it!** You have a hallucination detector that you can use to detect hallucinations in your data.\n"
   ]
  },
  {
   "cell_type": "markdown",
   "id": "8f275af5",
   "metadata": {},
   "source": [
    "For the published models, we have generated **1500** samples from the rag-mini-bioasq dataset (3000 samples together with the non-hallucinated ones). We've used the `gpt-oss-120b` model for the training data generation. We haven't specified direct error types, and used the default intensity of 0.3.\n",
    "\n",
    "For the test set, we have generated **300** hallucinated samples (600 samples together with the non-hallucinated ones). We've used the `gpt-5` model for the generation to ensure the quality of the hallucinations for the test set.\n",
    "\n",
    "For large scale generation, use our script:\n",
    "\n",
    "```bash\n",
    "python scripts/generate_synthetic_data.py \\\\\n",
    "    --dataset rag-mini-bioasq \\\\\n",
    "    --split train \\\\\n",
    "    --num-samples 100 \\\\\n",
    "    --model gpt-4o-mini \\\\\n",
    "    --output data/synthetic_train.json\n",
    "```\n",
    "\n",
    "\n"
   ]
  },
  {
   "cell_type": "markdown",
   "id": "fbc37ff5",
   "metadata": {},
   "source": [
    "## End-to-End Workflow\n",
    "\n",
    "```bash\n",
    "# Step 1: Generate synthetic training data\n",
    "python scripts/generate_synthetic_data.py \\\n",
    "  --dataset rag-mini-bioasq \\\n",
    "  --num-samples 2000 \\\n",
    "  --model gpt-4o-mini \\\n",
    "  --batch-size 10 \\\n",
    "  --output data/synthetic_large.json\n",
    "\n",
    "# Step 2: Train TinyLettuce model\n",
    "python scripts/train.py \\\n",
    "  --ragtruth-path data/train_combined_large.json \\\n",
    "  --model-name jhu-clsp/ettin-encoder-17m \\\n",
    "  --output-dir output/tinylettuce_17m \\\n",
    "  --batch-size 8 \\\n",
    "  --epochs 3\n",
    "\n",
    "# Step 3: Deploy on CPU for real-time inference\n",
    "python scripts/start_api.py prod --model output/tinylettuce_17m\n",
    "```"
   ]
  },
  {
   "cell_type": "markdown",
   "id": "2b24eab7",
   "metadata": {},
   "source": [
    "## Bonus\n",
    "\n"
   ]
  },
  {
   "cell_type": "code",
   "execution_count": null,
   "id": "9a75b564",
   "metadata": {},
   "outputs": [],
   "source": [
    "# We have implemented a triplet-based hallucination detection model that you can use the same way as the standard lettucecedetect models.\n",
    "\n",
    "from lettucedetect.models.inference import HallucinationDetector\n",
    "from lettucedetect.ragfactchecker import RAGFactChecker\n",
    "\n",
    "detector = HallucinationDetector(\n",
    "    method=\"rag_fact_checker\",\n",
    ")\n",
    "\n",
    "fact_checker = RAGFactChecker()"
   ]
  },
  {
   "cell_type": "code",
   "execution_count": 35,
   "id": "09d6f585",
   "metadata": {},
   "outputs": [
    {
     "data": {
      "text/html": [
       "<pre style=\"white-space:pre;overflow-x:auto;line-height:normal;font-family:Menlo,'DejaVu Sans Mono',consolas,'Courier New',monospace\"><span style=\"font-weight: bold\">[[</span><span style=\"color: #008000; text-decoration-color: #008000\">'the capital of France'</span>, <span style=\"color: #008000; text-decoration-color: #008000\">'is'</span>, <span style=\"color: #008000; text-decoration-color: #008000\">'Paris'</span><span style=\"font-weight: bold\">]]</span>\n",
       "</pre>\n"
      ],
      "text/plain": [
       "\u001b[1m[\u001b[0m\u001b[1m[\u001b[0m\u001b[32m'the capital of France'\u001b[0m, \u001b[32m'is'\u001b[0m, \u001b[32m'Paris'\u001b[0m\u001b[1m]\u001b[0m\u001b[1m]\u001b[0m\n"
      ]
     },
     "metadata": {},
     "output_type": "display_data"
    }
   ],
   "source": [
    "# Get triplets for a sample\n",
    "triplets = fact_checker.generate_triplets(\"The capital of France is Paris.\")\n",
    "console.print(triplets)"
   ]
  },
  {
   "cell_type": "code",
   "execution_count": 36,
   "id": "49953813",
   "metadata": {},
   "outputs": [
    {
     "data": {
      "text/html": [
       "<pre style=\"white-space:pre;overflow-x:auto;line-height:normal;font-family:Menlo,'DejaVu Sans Mono',consolas,'Courier New',monospace\"><span style=\"font-weight: bold\">{</span>\n",
       "    <span style=\"color: #008000; text-decoration-color: #008000\">'answer_triplets'</span>: <span style=\"font-weight: bold\">[[</span><span style=\"color: #008000; text-decoration-color: #008000\">'France'</span>, <span style=\"color: #008000; text-decoration-color: #008000\">'is'</span>, <span style=\"color: #008000; text-decoration-color: #008000\">'a country in Europe'</span><span style=\"font-weight: bold\">]]</span>,\n",
       "    <span style=\"color: #008000; text-decoration-color: #008000\">'reference_triplets'</span>: <span style=\"font-weight: bold\">[[</span><span style=\"color: #008000; text-decoration-color: #008000\">'France'</span>, <span style=\"color: #008000; text-decoration-color: #008000\">'is'</span>, <span style=\"color: #008000; text-decoration-color: #008000\">'a country in Asia'</span><span style=\"font-weight: bold\">]]</span>,\n",
       "    <span style=\"color: #008000; text-decoration-color: #008000\">'comparison'</span>: <span style=\"font-weight: bold\">{</span>\n",
       "        <span style=\"color: #008000; text-decoration-color: #008000\">'fact_check_results'</span>: <span style=\"font-weight: bold\">{</span><span style=\"color: #008080; text-decoration-color: #008080; font-weight: bold\">0</span>: <span style=\"color: #ff0000; text-decoration-color: #ff0000; font-style: italic\">False</span><span style=\"font-weight: bold\">}</span>,\n",
       "        <span style=\"color: #008000; text-decoration-color: #008000\">'raw_output'</span>: <span style=\"color: #800080; text-decoration-color: #800080; font-weight: bold\">FactCheckerOutput</span><span style=\"font-weight: bold\">(</span><span style=\"color: #808000; text-decoration-color: #808000\">fact_check_prediction_binary</span>=<span style=\"font-weight: bold\">{</span><span style=\"color: #008080; text-decoration-color: #008080; font-weight: bold\">0</span>: <span style=\"color: #ff0000; text-decoration-color: #ff0000; font-style: italic\">False</span><span style=\"font-weight: bold\">})</span>\n",
       "    <span style=\"font-weight: bold\">}</span>\n",
       "<span style=\"font-weight: bold\">}</span>\n",
       "</pre>\n"
      ],
      "text/plain": [
       "\u001b[1m{\u001b[0m\n",
       "    \u001b[32m'answer_triplets'\u001b[0m: \u001b[1m[\u001b[0m\u001b[1m[\u001b[0m\u001b[32m'France'\u001b[0m, \u001b[32m'is'\u001b[0m, \u001b[32m'a country in Europe'\u001b[0m\u001b[1m]\u001b[0m\u001b[1m]\u001b[0m,\n",
       "    \u001b[32m'reference_triplets'\u001b[0m: \u001b[1m[\u001b[0m\u001b[1m[\u001b[0m\u001b[32m'France'\u001b[0m, \u001b[32m'is'\u001b[0m, \u001b[32m'a country in Asia'\u001b[0m\u001b[1m]\u001b[0m\u001b[1m]\u001b[0m,\n",
       "    \u001b[32m'comparison'\u001b[0m: \u001b[1m{\u001b[0m\n",
       "        \u001b[32m'fact_check_results'\u001b[0m: \u001b[1m{\u001b[0m\u001b[1;36m0\u001b[0m: \u001b[3;91mFalse\u001b[0m\u001b[1m}\u001b[0m,\n",
       "        \u001b[32m'raw_output'\u001b[0m: \u001b[1;35mFactCheckerOutput\u001b[0m\u001b[1m(\u001b[0m\u001b[33mfact_check_prediction_binary\u001b[0m=\u001b[1m{\u001b[0m\u001b[1;36m0\u001b[0m: \u001b[3;91mFalse\u001b[0m\u001b[1m}\u001b[0m\u001b[1m)\u001b[0m\n",
       "    \u001b[1m}\u001b[0m\n",
       "\u001b[1m}\u001b[0m\n"
      ]
     },
     "metadata": {},
     "output_type": "display_data"
    }
   ],
   "source": [
    "compare = fact_checker.analyze_text_pair(\n",
    "    \"France is a country in Europe.\", \"France is a country in Asia.\"\n",
    ")\n",
    "console.print(compare)"
   ]
  },
  {
   "cell_type": "code",
   "execution_count": 38,
   "id": "77bfe6e4",
   "metadata": {},
   "outputs": [
    {
     "data": {
      "text/html": [
       "<pre style=\"white-space:pre;overflow-x:auto;line-height:normal;font-family:Menlo,'DejaVu Sans Mono',consolas,'Courier New',monospace\"><span style=\"font-weight: bold\">{</span>\n",
       "    <span style=\"color: #008000; text-decoration-color: #008000\">'spans'</span>: <span style=\"font-weight: bold\">[</span>\n",
       "        <span style=\"font-weight: bold\">{</span>\n",
       "            <span style=\"color: #008000; text-decoration-color: #008000\">'start'</span>: <span style=\"color: #008080; text-decoration-color: #008080; font-weight: bold\">0</span>,\n",
       "            <span style=\"color: #008000; text-decoration-color: #008000\">'end'</span>: <span style=\"color: #008080; text-decoration-color: #008080; font-weight: bold\">31</span>,\n",
       "            <span style=\"color: #008000; text-decoration-color: #008000\">'text'</span>: <span style=\"color: #008000; text-decoration-color: #008000\">'The capital of France is Berlin'</span>,\n",
       "            <span style=\"color: #008000; text-decoration-color: #008000\">'confidence'</span>: <span style=\"color: #008080; text-decoration-color: #008080; font-weight: bold\">0.9</span>,\n",
       "            <span style=\"color: #008000; text-decoration-color: #008000\">'triplet'</span>: <span style=\"font-weight: bold\">[</span><span style=\"color: #008000; text-decoration-color: #008000\">'the capital of France'</span>, <span style=\"color: #008000; text-decoration-color: #008000\">'is'</span>, <span style=\"color: #008000; text-decoration-color: #008000\">'Berlin'</span><span style=\"font-weight: bold\">]</span>\n",
       "        <span style=\"font-weight: bold\">}</span>\n",
       "    <span style=\"font-weight: bold\">]</span>,\n",
       "    <span style=\"color: #008000; text-decoration-color: #008000\">'triplets'</span>: <span style=\"font-weight: bold\">{</span>\n",
       "        <span style=\"color: #008000; text-decoration-color: #008000\">'answer'</span>: <span style=\"font-weight: bold\">[[</span><span style=\"color: #008000; text-decoration-color: #008000\">'the capital of France'</span>, <span style=\"color: #008000; text-decoration-color: #008000\">'is'</span>, <span style=\"color: #008000; text-decoration-color: #008000\">'Berlin'</span><span style=\"font-weight: bold\">]]</span>,\n",
       "        <span style=\"color: #008000; text-decoration-color: #008000\">'context'</span>: <span style=\"font-weight: bold\">[[</span><span style=\"color: #008000; text-decoration-color: #008000\">'The capital of France'</span>, <span style=\"color: #008000; text-decoration-color: #008000\">'is'</span>, <span style=\"color: #008000; text-decoration-color: #008000\">'Paris'</span><span style=\"font-weight: bold\">]]</span>,\n",
       "        <span style=\"color: #008000; text-decoration-color: #008000\">'hallucinated'</span>: <span style=\"font-weight: bold\">[[</span><span style=\"color: #008000; text-decoration-color: #008000\">'the capital of France'</span>, <span style=\"color: #008000; text-decoration-color: #008000\">'is'</span>, <span style=\"color: #008000; text-decoration-color: #008000\">'Berlin'</span><span style=\"font-weight: bold\">]]</span>\n",
       "    <span style=\"font-weight: bold\">}</span>,\n",
       "    <span style=\"color: #008000; text-decoration-color: #008000\">'fact_check_results'</span>: <span style=\"font-weight: bold\">{</span><span style=\"color: #008080; text-decoration-color: #008080; font-weight: bold\">0</span>: <span style=\"color: #ff0000; text-decoration-color: #ff0000; font-style: italic\">False</span><span style=\"font-weight: bold\">}</span>\n",
       "<span style=\"font-weight: bold\">}</span>\n",
       "</pre>\n"
      ],
      "text/plain": [
       "\u001b[1m{\u001b[0m\n",
       "    \u001b[32m'spans'\u001b[0m: \u001b[1m[\u001b[0m\n",
       "        \u001b[1m{\u001b[0m\n",
       "            \u001b[32m'start'\u001b[0m: \u001b[1;36m0\u001b[0m,\n",
       "            \u001b[32m'end'\u001b[0m: \u001b[1;36m31\u001b[0m,\n",
       "            \u001b[32m'text'\u001b[0m: \u001b[32m'The capital of France is Berlin'\u001b[0m,\n",
       "            \u001b[32m'confidence'\u001b[0m: \u001b[1;36m0.9\u001b[0m,\n",
       "            \u001b[32m'triplet'\u001b[0m: \u001b[1m[\u001b[0m\u001b[32m'the capital of France'\u001b[0m, \u001b[32m'is'\u001b[0m, \u001b[32m'Berlin'\u001b[0m\u001b[1m]\u001b[0m\n",
       "        \u001b[1m}\u001b[0m\n",
       "    \u001b[1m]\u001b[0m,\n",
       "    \u001b[32m'triplets'\u001b[0m: \u001b[1m{\u001b[0m\n",
       "        \u001b[32m'answer'\u001b[0m: \u001b[1m[\u001b[0m\u001b[1m[\u001b[0m\u001b[32m'the capital of France'\u001b[0m, \u001b[32m'is'\u001b[0m, \u001b[32m'Berlin'\u001b[0m\u001b[1m]\u001b[0m\u001b[1m]\u001b[0m,\n",
       "        \u001b[32m'context'\u001b[0m: \u001b[1m[\u001b[0m\u001b[1m[\u001b[0m\u001b[32m'The capital of France'\u001b[0m, \u001b[32m'is'\u001b[0m, \u001b[32m'Paris'\u001b[0m\u001b[1m]\u001b[0m\u001b[1m]\u001b[0m,\n",
       "        \u001b[32m'hallucinated'\u001b[0m: \u001b[1m[\u001b[0m\u001b[1m[\u001b[0m\u001b[32m'the capital of France'\u001b[0m, \u001b[32m'is'\u001b[0m, \u001b[32m'Berlin'\u001b[0m\u001b[1m]\u001b[0m\u001b[1m]\u001b[0m\n",
       "    \u001b[1m}\u001b[0m,\n",
       "    \u001b[32m'fact_check_results'\u001b[0m: \u001b[1m{\u001b[0m\u001b[1;36m0\u001b[0m: \u001b[3;91mFalse\u001b[0m\u001b[1m}\u001b[0m\n",
       "\u001b[1m}\u001b[0m\n"
      ]
     },
     "metadata": {},
     "output_type": "display_data"
    }
   ],
   "source": [
    "# You can use it for detecting hallucinations in your data\n",
    "result = detector.predict(\n",
    "    context=\"The capital of France is Paris.\",\n",
    "    question=\"What is the capital of France?\",\n",
    "    answer=\"The capital of France is Berlin.\",\n",
    "    output_format=\"detailed\",\n",
    ")\n",
    "console.print(result)"
   ]
  },
  {
   "cell_type": "code",
   "execution_count": null,
   "id": "143e383a",
   "metadata": {},
   "outputs": [],
   "source": []
  }
 ],
 "metadata": {
  "kernelspec": {
   "display_name": "lettuce",
   "language": "python",
   "name": "python3"
  },
  "language_info": {
   "codemirror_mode": {
    "name": "ipython",
    "version": 3
   },
   "file_extension": ".py",
   "mimetype": "text/x-python",
   "name": "python",
   "nbconvert_exporter": "python",
   "pygments_lexer": "ipython3",
   "version": "3.12.9"
  }
 },
 "nbformat": 4,
 "nbformat_minor": 5
}
