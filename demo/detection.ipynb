{
 "cells": [
  {
   "cell_type": "code",
   "execution_count": 13,
   "metadata": {},
   "outputs": [
    {
     "name": "stdout",
     "output_type": "stream",
     "text": [
      "Predictions: [{'start': 31, 'end': 71, 'confidence': 0.9944414496421814, 'text': ' The population of France is 69 million.'}]\n"
     ]
    }
   ],
   "source": [
    "from lettucedetect.models.inference import HallucinationDetector\n",
    "\n",
    "# For a transformer-based approach:\n",
    "detector = HallucinationDetector(\n",
    "    method=\"transformer\", model_path=\"../output/best_model\"\n",
    ")\n",
    "# For a rule-based approach (if implemented):\n",
    "# detector = HallucinationDetector(method=\"rule_based\", rules_config={\"min_length\": 3})\n",
    "\n",
    "context = \"\"\"Briefly answer the following question:\n",
    "What is the capital of France? What is the population of France?\n",
    "\n",
    "Bear in mind that your response should be strictly based on the following three passages:\n",
    "passage 1: France is a country in Europe. The capital of France is Paris. The population of France is 67 million.\n",
    "\n",
    "output:\n",
    "\"\"\"\n",
    "\n",
    "answer = \"The capital of France is Paris. The population of France is 69 million.\"\n",
    "\n",
    "# Get span-level predictions indicating which parts of the answer are considered hallucinated.\n",
    "predictions = detector.predict(context, answer, output_format=\"spans\")\n",
    "print(\"Predictions:\", predictions)"
   ]
  },
  {
   "cell_type": "code",
   "execution_count": null,
   "metadata": {},
   "outputs": [],
   "source": []
  }
 ],
 "metadata": {
  "kernelspec": {
   "display_name": "lettucedetect",
   "language": "python",
   "name": "python3"
  },
  "language_info": {
   "codemirror_mode": {
    "name": "ipython",
    "version": 3
   },
   "file_extension": ".py",
   "mimetype": "text/x-python",
   "name": "python",
   "nbconvert_exporter": "python",
   "pygments_lexer": "ipython3",
   "version": "3.12.9"
  }
 },
 "nbformat": 4,
 "nbformat_minor": 2
}
